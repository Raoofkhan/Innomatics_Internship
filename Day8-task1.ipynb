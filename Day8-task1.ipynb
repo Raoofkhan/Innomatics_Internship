{
 "cells": [
  {
   "cell_type": "code",
   "execution_count": 125,
   "metadata": {},
   "outputs": [],
   "source": [
    "import os\n",
    "import pandas as pd\n",
    "import numpy as np\n",
    "import math\n",
    "import seaborn as sns\n",
    "import matplotlib.pyplot as plt"
   ]
  },
  {
   "cell_type": "code",
   "execution_count": 38,
   "metadata": {},
   "outputs": [],
   "source": [
    "os.chdir(\"D:\\data\")"
   ]
  },
  {
   "cell_type": "code",
   "execution_count": 40,
   "metadata": {
    "scrolled": true
   },
   "outputs": [
    {
     "data": {
      "text/html": [
       "<div>\n",
       "<style scoped>\n",
       "    .dataframe tbody tr th:only-of-type {\n",
       "        vertical-align: middle;\n",
       "    }\n",
       "\n",
       "    .dataframe tbody tr th {\n",
       "        vertical-align: top;\n",
       "    }\n",
       "\n",
       "    .dataframe thead th {\n",
       "        text-align: right;\n",
       "    }\n",
       "</style>\n",
       "<table border=\"1\" class=\"dataframe\">\n",
       "  <thead>\n",
       "    <tr style=\"text-align: right;\">\n",
       "      <th></th>\n",
       "      <th>Mthly_HH_Income</th>\n",
       "      <th>Mthly_HH_Expense</th>\n",
       "      <th>No_of_Fly_Members</th>\n",
       "      <th>Emi_or_Rent_Amt</th>\n",
       "      <th>Annual_HH_Income</th>\n",
       "      <th>Highest_Qualified_Member</th>\n",
       "      <th>No_of_Earning_Members</th>\n",
       "    </tr>\n",
       "  </thead>\n",
       "  <tbody>\n",
       "    <tr>\n",
       "      <th>0</th>\n",
       "      <td>5000</td>\n",
       "      <td>8000</td>\n",
       "      <td>3</td>\n",
       "      <td>2000</td>\n",
       "      <td>64200</td>\n",
       "      <td>Under-Graduate</td>\n",
       "      <td>1</td>\n",
       "    </tr>\n",
       "    <tr>\n",
       "      <th>1</th>\n",
       "      <td>6000</td>\n",
       "      <td>7000</td>\n",
       "      <td>2</td>\n",
       "      <td>3000</td>\n",
       "      <td>79920</td>\n",
       "      <td>Illiterate</td>\n",
       "      <td>1</td>\n",
       "    </tr>\n",
       "    <tr>\n",
       "      <th>2</th>\n",
       "      <td>10000</td>\n",
       "      <td>4500</td>\n",
       "      <td>2</td>\n",
       "      <td>0</td>\n",
       "      <td>112800</td>\n",
       "      <td>Under-Graduate</td>\n",
       "      <td>1</td>\n",
       "    </tr>\n",
       "    <tr>\n",
       "      <th>3</th>\n",
       "      <td>10000</td>\n",
       "      <td>2000</td>\n",
       "      <td>1</td>\n",
       "      <td>0</td>\n",
       "      <td>97200</td>\n",
       "      <td>Illiterate</td>\n",
       "      <td>1</td>\n",
       "    </tr>\n",
       "    <tr>\n",
       "      <th>4</th>\n",
       "      <td>12500</td>\n",
       "      <td>12000</td>\n",
       "      <td>2</td>\n",
       "      <td>3000</td>\n",
       "      <td>147000</td>\n",
       "      <td>Graduate</td>\n",
       "      <td>1</td>\n",
       "    </tr>\n",
       "  </tbody>\n",
       "</table>\n",
       "</div>"
      ],
      "text/plain": [
       "   Mthly_HH_Income  Mthly_HH_Expense  No_of_Fly_Members  Emi_or_Rent_Amt  \\\n",
       "0             5000              8000                  3             2000   \n",
       "1             6000              7000                  2             3000   \n",
       "2            10000              4500                  2                0   \n",
       "3            10000              2000                  1                0   \n",
       "4            12500             12000                  2             3000   \n",
       "\n",
       "   Annual_HH_Income Highest_Qualified_Member  No_of_Earning_Members  \n",
       "0             64200           Under-Graduate                      1  \n",
       "1             79920               Illiterate                      1  \n",
       "2            112800           Under-Graduate                      1  \n",
       "3             97200               Illiterate                      1  \n",
       "4            147000                 Graduate                      1  "
      ]
     },
     "execution_count": 40,
     "metadata": {},
     "output_type": "execute_result"
    }
   ],
   "source": [
    "df = pd.read_csv(\"data.csv\")\n",
    "df.head()"
   ]
  },
  {
   "cell_type": "code",
   "execution_count": 117,
   "metadata": {},
   "outputs": [
    {
     "data": {
      "text/plain": [
       "Index(['Mthly_HH_Income', 'Mthly_HH_Expense', 'No_of_Fly_Members',\n",
       "       'Emi_or_Rent_Amt', 'Annual_HH_Income', 'Highest_Qualified_Member',\n",
       "       'No_of_Earning_Members'],\n",
       "      dtype='object')"
      ]
     },
     "execution_count": 117,
     "metadata": {},
     "output_type": "execute_result"
    }
   ],
   "source": [
    "df.columns"
   ]
  },
  {
   "cell_type": "markdown",
   "metadata": {},
   "source": [
    "# Descriptive Statistics and Python Implementation"
   ]
  },
  {
   "cell_type": "markdown",
   "metadata": {},
   "source": [
    "Descriptive Statistics are brief coefficent that summarize given data set,which can be either be a representation of the entire or as sample of population.Descriptive statistics are broken down into measure of central tendency include mean, median and mode, while measure of variablity include standard deviation, variance, minimum and maximum variables, and kurtosis and skewness. "
   ]
  },
  {
   "cell_type": "markdown",
   "metadata": {},
   "source": [
    "### Mean :"
   ]
  },
  {
   "cell_type": "markdown",
   "metadata": {},
   "source": [
    "Mean is defined as the ratio of the sum of all the observations in the data to the total number of observations."
   ]
  },
  {
   "cell_type": "markdown",
   "metadata": {},
   "source": [
    "- **MEAN** = Sum of all observations/total number of observations."
   ]
  },
  {
   "cell_type": "markdown",
   "metadata": {},
   "source": [
    "#### Example: The mean of 4,1 and 7 is (4+1+7)/3 = 12/3 =4."
   ]
  },
  {
   "attachments": {},
   "cell_type": "markdown",
   "metadata": {},
   "source": [
    "### Formula:"
   ]
  },
  {
   "attachments": {
    "1Screenshot%202021-02-01%20124334.png": {
     "image/png": "[encoded data removed]"
    }
   },
   "cell_type": "markdown",
   "metadata": {},
   "source": [
    "![1Screenshot%202021-02-01%20124334.png](attachment:1Screenshot%202021-02-01%20124334.png)"
   ]
  },
  {
   "cell_type": "markdown",
   "metadata": {},
   "source": [
    "#### code:"
   ]
  },
  {
   "cell_type": "code",
   "execution_count": 72,
   "metadata": {},
   "outputs": [
    {
     "name": "stdout",
     "output_type": "stream",
     "text": [
      "4.06\n"
     ]
    }
   ],
   "source": [
    "sum = 0\n",
    "for i in range(len(df['No_of_Fly_Members'])):\n",
    "    sum = sum + df['No_of_Fly_Members'][i] \n",
    "    n = len(df['No_of_Fly_Members'])\n",
    "mean = sum/n\n",
    "print(mean)"
   ]
  },
  {
   "cell_type": "code",
   "execution_count": 100,
   "metadata": {},
   "outputs": [
    {
     "data": {
      "text/plain": [
       "Mthly_HH_Income           41558.00\n",
       "Mthly_HH_Expense          18818.00\n",
       "No_of_Fly_Members             4.06\n",
       "Emi_or_Rent_Amt            3060.00\n",
       "Annual_HH_Income         490019.04\n",
       "No_of_Earning_Members         1.46\n",
       "dtype: float64"
      ]
     },
     "execution_count": 100,
     "metadata": {},
     "output_type": "execute_result"
    }
   ],
   "source": [
    "df.mean()"
   ]
  },
  {
   "cell_type": "code",
   "execution_count": 101,
   "metadata": {},
   "outputs": [
    {
     "data": {
      "text/html": [
       "<div>\n",
       "<style scoped>\n",
       "    .dataframe tbody tr th:only-of-type {\n",
       "        vertical-align: middle;\n",
       "    }\n",
       "\n",
       "    .dataframe tbody tr th {\n",
       "        vertical-align: top;\n",
       "    }\n",
       "\n",
       "    .dataframe thead th {\n",
       "        text-align: right;\n",
       "    }\n",
       "</style>\n",
       "<table border=\"1\" class=\"dataframe\">\n",
       "  <thead>\n",
       "    <tr style=\"text-align: right;\">\n",
       "      <th></th>\n",
       "      <th>Mthly_HH_Income</th>\n",
       "      <th>Mthly_HH_Expense</th>\n",
       "      <th>No_of_Fly_Members</th>\n",
       "      <th>Emi_or_Rent_Amt</th>\n",
       "      <th>Annual_HH_Income</th>\n",
       "      <th>No_of_Earning_Members</th>\n",
       "    </tr>\n",
       "  </thead>\n",
       "  <tbody>\n",
       "    <tr>\n",
       "      <th>count</th>\n",
       "      <td>50.000000</td>\n",
       "      <td>50.000000</td>\n",
       "      <td>50.000000</td>\n",
       "      <td>50.000000</td>\n",
       "      <td>5.000000e+01</td>\n",
       "      <td>50.000000</td>\n",
       "    </tr>\n",
       "    <tr>\n",
       "      <th>mean</th>\n",
       "      <td>41558.000000</td>\n",
       "      <td>18818.000000</td>\n",
       "      <td>4.060000</td>\n",
       "      <td>3060.000000</td>\n",
       "      <td>4.900190e+05</td>\n",
       "      <td>1.460000</td>\n",
       "    </tr>\n",
       "    <tr>\n",
       "      <th>std</th>\n",
       "      <td>26097.908979</td>\n",
       "      <td>12090.216824</td>\n",
       "      <td>1.517382</td>\n",
       "      <td>6241.434948</td>\n",
       "      <td>3.201358e+05</td>\n",
       "      <td>0.734291</td>\n",
       "    </tr>\n",
       "    <tr>\n",
       "      <th>min</th>\n",
       "      <td>5000.000000</td>\n",
       "      <td>2000.000000</td>\n",
       "      <td>1.000000</td>\n",
       "      <td>0.000000</td>\n",
       "      <td>6.420000e+04</td>\n",
       "      <td>1.000000</td>\n",
       "    </tr>\n",
       "    <tr>\n",
       "      <th>25%</th>\n",
       "      <td>23550.000000</td>\n",
       "      <td>10000.000000</td>\n",
       "      <td>3.000000</td>\n",
       "      <td>0.000000</td>\n",
       "      <td>2.587500e+05</td>\n",
       "      <td>1.000000</td>\n",
       "    </tr>\n",
       "    <tr>\n",
       "      <th>50%</th>\n",
       "      <td>35000.000000</td>\n",
       "      <td>15500.000000</td>\n",
       "      <td>4.000000</td>\n",
       "      <td>0.000000</td>\n",
       "      <td>4.474200e+05</td>\n",
       "      <td>1.000000</td>\n",
       "    </tr>\n",
       "    <tr>\n",
       "      <th>75%</th>\n",
       "      <td>50375.000000</td>\n",
       "      <td>25000.000000</td>\n",
       "      <td>5.000000</td>\n",
       "      <td>3500.000000</td>\n",
       "      <td>5.947200e+05</td>\n",
       "      <td>2.000000</td>\n",
       "    </tr>\n",
       "    <tr>\n",
       "      <th>max</th>\n",
       "      <td>100000.000000</td>\n",
       "      <td>50000.000000</td>\n",
       "      <td>7.000000</td>\n",
       "      <td>35000.000000</td>\n",
       "      <td>1.404000e+06</td>\n",
       "      <td>4.000000</td>\n",
       "    </tr>\n",
       "  </tbody>\n",
       "</table>\n",
       "</div>"
      ],
      "text/plain": [
       "       Mthly_HH_Income  Mthly_HH_Expense  No_of_Fly_Members  Emi_or_Rent_Amt  \\\n",
       "count        50.000000         50.000000          50.000000        50.000000   \n",
       "mean      41558.000000      18818.000000           4.060000      3060.000000   \n",
       "std       26097.908979      12090.216824           1.517382      6241.434948   \n",
       "min        5000.000000       2000.000000           1.000000         0.000000   \n",
       "25%       23550.000000      10000.000000           3.000000         0.000000   \n",
       "50%       35000.000000      15500.000000           4.000000         0.000000   \n",
       "75%       50375.000000      25000.000000           5.000000      3500.000000   \n",
       "max      100000.000000      50000.000000           7.000000     35000.000000   \n",
       "\n",
       "       Annual_HH_Income  No_of_Earning_Members  \n",
       "count      5.000000e+01              50.000000  \n",
       "mean       4.900190e+05               1.460000  \n",
       "std        3.201358e+05               0.734291  \n",
       "min        6.420000e+04               1.000000  \n",
       "25%        2.587500e+05               1.000000  \n",
       "50%        4.474200e+05               1.000000  \n",
       "75%        5.947200e+05               2.000000  \n",
       "max        1.404000e+06               4.000000  "
      ]
     },
     "execution_count": 101,
     "metadata": {},
     "output_type": "execute_result"
    }
   ],
   "source": [
    "df.describe()"
   ]
  },
  {
   "cell_type": "markdown",
   "metadata": {},
   "source": [
    "### Median :"
   ]
  },
  {
   "cell_type": "markdown",
   "metadata": {},
   "source": [
    "Median is the point which divides the entire data into two equal halves. One-half of the data is less than the median, and the other half is greater than the same. Median is calculated by first arranging the data in either ascending or descending order."
   ]
  },
  {
   "cell_type": "markdown",
   "metadata": {},
   "source": [
    "##### Example 1: The median of 4,1 and 7 is 4 because when the numbers are put in order (1,4,7) the number  4 is the middle. "
   ]
  },
  {
   "cell_type": "markdown",
   "metadata": {},
   "source": [
    "##### Example 2: The median of 10,20,40 and 50 is 30 (since median is average of  middle two data points)."
   ]
  },
  {
   "attachments": {
    "3Screenshot%202021-02-01%20165009.png": {
     "image/png": "[encoded data removed]"
    }
   },
   "cell_type": "markdown",
   "metadata": {},
   "source": [
    "#### Formula:![3Screenshot%202021-02-01%20165009.png](attachment:3Screenshot%202021-02-01%20165009.png)\n"
   ]
  },
  {
   "cell_type": "markdown",
   "metadata": {},
   "source": [
    "#### code:"
   ]
  },
  {
   "cell_type": "code",
   "execution_count": 56,
   "metadata": {},
   "outputs": [
    {
     "name": "stdout",
     "output_type": "stream",
     "text": [
      "Median is: 3.5\n"
     ]
    }
   ],
   "source": [
    "n = len(df['No_of_Fly_Members'])\n",
    "df['No_of_Fly_Members'].sort_values()\n",
    "\n",
    "if n % 2 == 0:\n",
    "   a = df['No_of_Fly_Members'][n/2]\n",
    "   b = df['No_of_Fly_Members'][(n/2)-1]\n",
    "   median = (a + b)/2\n",
    "else:\n",
    "   median = df['No_of_Fly_Members'][n/2]\n",
    "print(\"Median is: \" + str(median))"
   ]
  },
  {
   "cell_type": "code",
   "execution_count": 99,
   "metadata": {
    "scrolled": true
   },
   "outputs": [
    {
     "data": {
      "text/plain": [
       "Mthly_HH_Income           35000.0\n",
       "Mthly_HH_Expense          15500.0\n",
       "No_of_Fly_Members             4.0\n",
       "Emi_or_Rent_Amt               0.0\n",
       "Annual_HH_Income         447420.0\n",
       "No_of_Earning_Members         1.0\n",
       "dtype: float64"
      ]
     },
     "execution_count": 99,
     "metadata": {},
     "output_type": "execute_result"
    }
   ],
   "source": [
    "df.median()"
   ]
  },
  {
   "cell_type": "markdown",
   "metadata": {},
   "source": [
    "### Mode :"
   ]
  },
  {
   "cell_type": "markdown",
   "metadata": {},
   "source": [
    "Mode is the most frequent number—that is, the number that occurs the highest number of times."
   ]
  },
  {
   "cell_type": "markdown",
   "metadata": {},
   "source": [
    "##### Example: The mode of {4,2,4,3,2,2} is 2 because it occurs three times,which is more than any other number. "
   ]
  },
  {
   "cell_type": "markdown",
   "metadata": {},
   "source": [
    "#### Formula: Mode = L + (fm−f1)h /(fm−f1)+(fm−f2)"
   ]
  },
  {
   "attachments": {
    "4Screenshot%202021-02-01%20173343.png": {
     "image/png": "[encoded data removed]"
    }
   },
   "cell_type": "markdown",
   "metadata": {},
   "source": [
    "#### Formula:![4Screenshot%202021-02-01%20173343.png](attachment:4Screenshot%202021-02-01%20173343.png)"
   ]
  },
  {
   "cell_type": "code",
   "execution_count": 66,
   "metadata": {},
   "outputs": [
    {
     "name": "stdout",
     "output_type": "stream",
     "text": [
      "Mthly_HH_IncomeMode is 45000\n",
      "Mthly_HH_ExpenseMode is 25000\n",
      "No_of_Fly_MembersMode is 4\n",
      "Emi_or_Rent_AmtMode is 0\n",
      "Annual_HH_IncomeMode is 590400\n",
      "Highest_Qualified_MemberMode is Graduate\n",
      "No_of_Earning_MembersMode is 1\n"
     ]
    }
   ],
   "source": [
    "for col in df.columns:\n",
    "   n = 0\n",
    "   l1 = []\n",
    "   l = list(df[col].unique())\n",
    "   for i in l:\n",
    "       a = list(df[col]).count(i)\n",
    "       if a not in l1:\n",
    "           l1.append(a)\n",
    "       mode_value = sorted(l1,reverse = True)[0]\n",
    "   for i in l:\n",
    "       a = list(df[col]).count(i)\n",
    "       if(a == mode_value):\n",
    "           print(col + \"Mode is\", i)\n",
    "           break"
   ]
  },
  {
   "cell_type": "code",
   "execution_count": 97,
   "metadata": {},
   "outputs": [
    {
     "data": {
      "text/html": [
       "<div>\n",
       "<style scoped>\n",
       "    .dataframe tbody tr th:only-of-type {\n",
       "        vertical-align: middle;\n",
       "    }\n",
       "\n",
       "    .dataframe tbody tr th {\n",
       "        vertical-align: top;\n",
       "    }\n",
       "\n",
       "    .dataframe thead th {\n",
       "        text-align: right;\n",
       "    }\n",
       "</style>\n",
       "<table border=\"1\" class=\"dataframe\">\n",
       "  <thead>\n",
       "    <tr style=\"text-align: right;\">\n",
       "      <th></th>\n",
       "      <th>Mthly_HH_Income</th>\n",
       "      <th>Mthly_HH_Expense</th>\n",
       "      <th>No_of_Fly_Members</th>\n",
       "      <th>Emi_or_Rent_Amt</th>\n",
       "      <th>Annual_HH_Income</th>\n",
       "      <th>Highest_Qualified_Member</th>\n",
       "      <th>No_of_Earning_Members</th>\n",
       "    </tr>\n",
       "  </thead>\n",
       "  <tbody>\n",
       "    <tr>\n",
       "      <th>0</th>\n",
       "      <td>45000</td>\n",
       "      <td>25000</td>\n",
       "      <td>4</td>\n",
       "      <td>0</td>\n",
       "      <td>590400</td>\n",
       "      <td>Graduate</td>\n",
       "      <td>1</td>\n",
       "    </tr>\n",
       "  </tbody>\n",
       "</table>\n",
       "</div>"
      ],
      "text/plain": [
       "   Mthly_HH_Income  Mthly_HH_Expense  No_of_Fly_Members  Emi_or_Rent_Amt  \\\n",
       "0            45000             25000                  4                0   \n",
       "\n",
       "   Annual_HH_Income Highest_Qualified_Member  No_of_Earning_Members  \n",
       "0            590400                 Graduate                      1  "
      ]
     },
     "execution_count": 97,
     "metadata": {},
     "output_type": "execute_result"
    }
   ],
   "source": [
    "df.mode()"
   ]
  },
  {
   "cell_type": "markdown",
   "metadata": {},
   "source": [
    "### Variance:"
   ]
  },
  {
   "cell_type": "markdown",
   "metadata": {},
   "source": [
    "\n",
    "Variance is a measurement of the spread between numbers in a data set.It is calculated by taking the differences between each number in the data set and the mean, then squaring the differences to make them positive, and finally dividing the sum of the squares by the number of values in the data set."
   ]
  },
  {
   "cell_type": "markdown",
   "metadata": {},
   "source": [
    " - **Variance (S2) = average squared deviation of values from mean.**"
   ]
  },
  {
   "cell_type": "markdown",
   "metadata": {},
   "source": [
    "#### Example: **For the numbers 1, 2, and 3 the mean is 2 and the variance is 0.667.**\n",
    "\n",
    "[(1 - 2)2 + (2 - 2)2 + (3 - 2)2] ÷ 3 = 0.667\n",
    "\n",
    "[squaring deviation from the mean] ÷ number of observations = variance"
   ]
  },
  {
   "attachments": {},
   "cell_type": "markdown",
   "metadata": {},
   "source": [
    "### Formula:\n"
   ]
  },
  {
   "attachments": {
    "8Screenshot%202021-02-02%20172102.png": {
     "image/png": "[encoded data removed]"
    }
   },
   "cell_type": "markdown",
   "metadata": {},
   "source": [
    "![8Screenshot%202021-02-02%20172102.png](attachment:8Screenshot%202021-02-02%20172102.png)"
   ]
  },
  {
   "cell_type": "markdown",
   "metadata": {},
   "source": [
    "$ \\sigma $  = **population variance**  \n",
    "$ x{i} $ = **the value of the one observation**  \n",
    "$ \\mu $ = **the mean value of all observations**     \n",
    "N = **the number of observation**  "
   ]
  },
  {
   "cell_type": "markdown",
   "metadata": {},
   "source": [
    "#### code:"
   ]
  },
  {
   "cell_type": "code",
   "execution_count": 57,
   "metadata": {},
   "outputs": [
    {
     "name": "stdout",
     "output_type": "stream",
     "text": [
      "Variance is 2.302448979591837\n"
     ]
    }
   ],
   "source": [
    "sum = 0\n",
    "var = 0\n",
    "for i in range(len(df['No_of_Fly_Members'])):\n",
    "   sum =sum + df['No_of_Fly_Members'][i]\n",
    "n =len(df['No_of_Fly_Members'])\n",
    "mean = sum/n\n",
    "for i in range(len(df['No_of_Fly_Members'])):\n",
    "   var = var + (df['No_of_Fly_Members'][i] - mean)**2)\n",
    "variance = var / (n-1)\n",
    "print(\"Variance is\",variance)"
   ]
  },
  {
   "cell_type": "code",
   "execution_count": 103,
   "metadata": {},
   "outputs": [
    {
     "data": {
      "text/html": [
       "<div>\n",
       "<style scoped>\n",
       "    .dataframe tbody tr th:only-of-type {\n",
       "        vertical-align: middle;\n",
       "    }\n",
       "\n",
       "    .dataframe tbody tr th {\n",
       "        vertical-align: top;\n",
       "    }\n",
       "\n",
       "    .dataframe thead th {\n",
       "        text-align: right;\n",
       "    }\n",
       "</style>\n",
       "<table border=\"1\" class=\"dataframe\">\n",
       "  <thead>\n",
       "    <tr style=\"text-align: right;\">\n",
       "      <th></th>\n",
       "      <th>Mthly_HH_Income</th>\n",
       "      <th>Mthly_HH_Expense</th>\n",
       "      <th>No_of_Fly_Members</th>\n",
       "      <th>Emi_or_Rent_Amt</th>\n",
       "      <th>Annual_HH_Income</th>\n",
       "      <th>No_of_Earning_Members</th>\n",
       "    </tr>\n",
       "  </thead>\n",
       "  <tbody>\n",
       "    <tr>\n",
       "      <th>Mthly_HH_Income</th>\n",
       "      <td>6.811009e+08</td>\n",
       "      <td>2.048465e+08</td>\n",
       "      <td>17753.591837</td>\n",
       "      <td>6.022980e+06</td>\n",
       "      <td>8.106864e+09</td>\n",
       "      <td>6666.653061</td>\n",
       "    </tr>\n",
       "    <tr>\n",
       "      <th>Mthly_HH_Expense</th>\n",
       "      <td>2.048465e+08</td>\n",
       "      <td>1.461733e+08</td>\n",
       "      <td>11735.632653</td>\n",
       "      <td>3.058257e+07</td>\n",
       "      <td>2.288330e+09</td>\n",
       "      <td>2769.102041</td>\n",
       "    </tr>\n",
       "    <tr>\n",
       "      <th>No_of_Fly_Members</th>\n",
       "      <td>1.775359e+04</td>\n",
       "      <td>1.173563e+04</td>\n",
       "      <td>2.302449</td>\n",
       "      <td>8.126531e+02</td>\n",
       "      <td>2.093019e+05</td>\n",
       "      <td>0.665714</td>\n",
       "    </tr>\n",
       "    <tr>\n",
       "      <th>Emi_or_Rent_Amt</th>\n",
       "      <td>6.022980e+06</td>\n",
       "      <td>3.058257e+07</td>\n",
       "      <td>812.653061</td>\n",
       "      <td>3.895551e+07</td>\n",
       "      <td>5.426263e+06</td>\n",
       "      <td>-446.530612</td>\n",
       "    </tr>\n",
       "    <tr>\n",
       "      <th>Annual_HH_Income</th>\n",
       "      <td>8.106864e+09</td>\n",
       "      <td>2.288330e+09</td>\n",
       "      <td>209301.854694</td>\n",
       "      <td>5.426263e+06</td>\n",
       "      <td>1.024869e+11</td>\n",
       "      <td>69741.266939</td>\n",
       "    </tr>\n",
       "    <tr>\n",
       "      <th>No_of_Earning_Members</th>\n",
       "      <td>6.666653e+03</td>\n",
       "      <td>2.769102e+03</td>\n",
       "      <td>0.665714</td>\n",
       "      <td>-4.465306e+02</td>\n",
       "      <td>6.974127e+04</td>\n",
       "      <td>0.539184</td>\n",
       "    </tr>\n",
       "  </tbody>\n",
       "</table>\n",
       "</div>"
      ],
      "text/plain": [
       "                       Mthly_HH_Income  Mthly_HH_Expense  No_of_Fly_Members  \\\n",
       "Mthly_HH_Income           6.811009e+08      2.048465e+08       17753.591837   \n",
       "Mthly_HH_Expense          2.048465e+08      1.461733e+08       11735.632653   \n",
       "No_of_Fly_Members         1.775359e+04      1.173563e+04           2.302449   \n",
       "Emi_or_Rent_Amt           6.022980e+06      3.058257e+07         812.653061   \n",
       "Annual_HH_Income          8.106864e+09      2.288330e+09      209301.854694   \n",
       "No_of_Earning_Members     6.666653e+03      2.769102e+03           0.665714   \n",
       "\n",
       "                       Emi_or_Rent_Amt  Annual_HH_Income  \\\n",
       "Mthly_HH_Income           6.022980e+06      8.106864e+09   \n",
       "Mthly_HH_Expense          3.058257e+07      2.288330e+09   \n",
       "No_of_Fly_Members         8.126531e+02      2.093019e+05   \n",
       "Emi_or_Rent_Amt           3.895551e+07      5.426263e+06   \n",
       "Annual_HH_Income          5.426263e+06      1.024869e+11   \n",
       "No_of_Earning_Members    -4.465306e+02      6.974127e+04   \n",
       "\n",
       "                       No_of_Earning_Members  \n",
       "Mthly_HH_Income                  6666.653061  \n",
       "Mthly_HH_Expense                 2769.102041  \n",
       "No_of_Fly_Members                   0.665714  \n",
       "Emi_or_Rent_Amt                  -446.530612  \n",
       "Annual_HH_Income                69741.266939  \n",
       "No_of_Earning_Members               0.539184  "
      ]
     },
     "execution_count": 103,
     "metadata": {},
     "output_type": "execute_result"
    }
   ],
   "source": [
    "df.cov()"
   ]
  },
  {
   "attachments": {},
   "cell_type": "markdown",
   "metadata": {},
   "source": [
    "\n"
   ]
  },
  {
   "cell_type": "markdown",
   "metadata": {},
   "source": [
    "### Standard Deviation:"
   ]
  },
  {
   "cell_type": "markdown",
   "metadata": {},
   "source": [
    "Standard deviation is a measure of dispersement in statistics. “Dispersement” tells you how much your data is spread out. Specifically, it shows you how much your data is spread out around the mean or average. "
   ]
  },
  {
   "cell_type": "markdown",
   "metadata": {},
   "source": [
    "- **Standard deviation (S) = square root of the variance.**"
   ]
  },
  {
   "cell_type": "markdown",
   "metadata": {},
   "source": [
    "#### Formula:"
   ]
  },
  {
   "attachments": {
    "5Screenshot%202021-02-02%20142822.png": {
     "image/png": "[encoded data removed]"
    }
   },
   "cell_type": "markdown",
   "metadata": {},
   "source": [
    "![5Screenshot%202021-02-02%20142822.png](attachment:5Screenshot%202021-02-02%20142822.png)"
   ]
  },
  {
   "cell_type": "markdown",
   "metadata": {},
   "source": [
    "$ \\sigma $\t=\t**population standard deviation**   \n",
    "  N\t=\t**the size of the population**    \n",
    "$  x_i $\t=\t**each value from the population**   \n",
    "$ \\mu\t$ =\t**the population mean**      \n",
    "  "
   ]
  },
  {
   "cell_type": "markdown",
   "metadata": {},
   "source": [
    "#### code:"
   ]
  },
  {
   "cell_type": "code",
   "execution_count": 82,
   "metadata": {},
   "outputs": [
    {
     "name": "stdout",
     "output_type": "stream",
     "text": [
      "standard Deviation is 0.03959183673469389\n"
     ]
    }
   ],
   "source": [
    "sum = 0\n",
    "var = 0\n",
    "for i in range(len(df['No_of_Fly_Members'])):\n",
    "   sum = sum + df['No_of_Fly_Members'][i]\n",
    "n = len(df['No_of_Fly_Members'])\n",
    "mean = sum / n\n",
    "for i in range(len(df['No_of_Fly_Members'])):\n",
    "   std = math.sqrt(var + (df['No_of_Fly_Members'][i] - mean)**2 )\n",
    "std = std / (n-1)\n",
    "print(\"standard Deviation is\",std)"
   ]
  },
  {
   "cell_type": "code",
   "execution_count": 91,
   "metadata": {},
   "outputs": [
    {
     "data": {
      "text/plain": [
       "Mthly_HH_Income           26097.908979\n",
       "Mthly_HH_Expense          12090.216824\n",
       "No_of_Fly_Members             1.517382\n",
       "Emi_or_Rent_Amt            6241.434948\n",
       "Annual_HH_Income         320135.792123\n",
       "No_of_Earning_Members         0.734291\n",
       "dtype: float64"
      ]
     },
     "execution_count": 91,
     "metadata": {},
     "output_type": "execute_result"
    }
   ],
   "source": [
    "df.std()"
   ]
  },
  {
   "cell_type": "markdown",
   "metadata": {},
   "source": [
    "### Correlation: "
   ]
  },
  {
   "cell_type": "markdown",
   "metadata": {},
   "source": [
    "Correlation is a statistical measure that expresses the extent to which two variables are linearly related (meaning they change together at a constant rate). It’s a common tool for describing simple relationships without making a statement about cause and effect."
   ]
  },
  {
   "cell_type": "markdown",
   "metadata": {},
   "source": [
    "### Formula:"
   ]
  },
  {
   "attachments": {
    "6Screenshot%202021-02-02%20143643.png": {
     "image/png": "[encoded data removed]"
    }
   },
   "cell_type": "markdown",
   "metadata": {},
   "source": [
    "![6Screenshot%202021-02-02%20143643.png](attachment:6Screenshot%202021-02-02%20143643.png)"
   ]
  },
  {
   "cell_type": "markdown",
   "metadata": {},
   "source": [
    "**r**\t=\t**correlation coefficient    \n",
    "$x_{i}$\t=\tvalues of the x-variable in a sample     \n",
    "$\\bar{x}$\t=\tmean of the values of the x-variable    \n",
    "$y_{i}$\t=\tvalues of the y-variable in a sample    \n",
    "$\\bar{y}$\t=\tmean of the values of the y-variable**\n"
   ]
  },
  {
   "cell_type": "markdown",
   "metadata": {},
   "source": [
    "##### code:"
   ]
  },
  {
   "cell_type": "code",
   "execution_count": 109,
   "metadata": {},
   "outputs": [
    {
     "name": "stdout",
     "output_type": "stream",
     "text": [
      "0.6492152549316461\n"
     ]
    }
   ],
   "source": [
    "m=df[\"Mthly_HH_Income\"]\n",
    "n=df[\"Mthly_HH_Expense\"]\n",
    "mean_M=m.mean()\n",
    "mean_N=n.mean()\n",
    "num = 0\n",
    "for i in range(len(m)):\n",
    "  num = num + (m[i]-mean_M)*(n[i]-mean_N)\n",
    "\n",
    "d_m = 0\n",
    "for i in range(len(m)):\n",
    "  d_m = d_m + (m[i]-mean_M)**2\n",
    " \n",
    "d_n = 0\n",
    "for i in range(len(n)):\n",
    "  d_n = d_n + (n[i]-mean_N)**2\n",
    " \n",
    "d = math.sqrt(d_m * d_n)\n",
    "corr = num/d\n",
    "print(corr)"
   ]
  },
  {
   "cell_type": "code",
   "execution_count": 142,
   "metadata": {},
   "outputs": [
    {
     "data": {
      "text/html": [
       "<div>\n",
       "<style scoped>\n",
       "    .dataframe tbody tr th:only-of-type {\n",
       "        vertical-align: middle;\n",
       "    }\n",
       "\n",
       "    .dataframe tbody tr th {\n",
       "        vertical-align: top;\n",
       "    }\n",
       "\n",
       "    .dataframe thead th {\n",
       "        text-align: right;\n",
       "    }\n",
       "</style>\n",
       "<table border=\"1\" class=\"dataframe\">\n",
       "  <thead>\n",
       "    <tr style=\"text-align: right;\">\n",
       "      <th></th>\n",
       "      <th>Mthly_HH_Income</th>\n",
       "      <th>Mthly_HH_Expense</th>\n",
       "      <th>No_of_Fly_Members</th>\n",
       "      <th>Emi_or_Rent_Amt</th>\n",
       "      <th>Annual_HH_Income</th>\n",
       "      <th>No_of_Earning_Members</th>\n",
       "    </tr>\n",
       "  </thead>\n",
       "  <tbody>\n",
       "    <tr>\n",
       "      <th>Mthly_HH_Income</th>\n",
       "      <td>1.000000</td>\n",
       "      <td>0.649215</td>\n",
       "      <td>0.448317</td>\n",
       "      <td>0.036976</td>\n",
       "      <td>0.970315</td>\n",
       "      <td>0.347883</td>\n",
       "    </tr>\n",
       "    <tr>\n",
       "      <th>Mthly_HH_Expense</th>\n",
       "      <td>0.649215</td>\n",
       "      <td>1.000000</td>\n",
       "      <td>0.639702</td>\n",
       "      <td>0.405280</td>\n",
       "      <td>0.591222</td>\n",
       "      <td>0.311915</td>\n",
       "    </tr>\n",
       "    <tr>\n",
       "      <th>No_of_Fly_Members</th>\n",
       "      <td>0.448317</td>\n",
       "      <td>0.639702</td>\n",
       "      <td>1.000000</td>\n",
       "      <td>0.085808</td>\n",
       "      <td>0.430868</td>\n",
       "      <td>0.597482</td>\n",
       "    </tr>\n",
       "    <tr>\n",
       "      <th>Emi_or_Rent_Amt</th>\n",
       "      <td>0.036976</td>\n",
       "      <td>0.405280</td>\n",
       "      <td>0.085808</td>\n",
       "      <td>1.000000</td>\n",
       "      <td>0.002716</td>\n",
       "      <td>-0.097431</td>\n",
       "    </tr>\n",
       "    <tr>\n",
       "      <th>Annual_HH_Income</th>\n",
       "      <td>0.970315</td>\n",
       "      <td>0.591222</td>\n",
       "      <td>0.430868</td>\n",
       "      <td>0.002716</td>\n",
       "      <td>1.000000</td>\n",
       "      <td>0.296679</td>\n",
       "    </tr>\n",
       "    <tr>\n",
       "      <th>No_of_Earning_Members</th>\n",
       "      <td>0.347883</td>\n",
       "      <td>0.311915</td>\n",
       "      <td>0.597482</td>\n",
       "      <td>-0.097431</td>\n",
       "      <td>0.296679</td>\n",
       "      <td>1.000000</td>\n",
       "    </tr>\n",
       "  </tbody>\n",
       "</table>\n",
       "</div>"
      ],
      "text/plain": [
       "                       Mthly_HH_Income  Mthly_HH_Expense  No_of_Fly_Members  \\\n",
       "Mthly_HH_Income               1.000000          0.649215           0.448317   \n",
       "Mthly_HH_Expense              0.649215          1.000000           0.639702   \n",
       "No_of_Fly_Members             0.448317          0.639702           1.000000   \n",
       "Emi_or_Rent_Amt               0.036976          0.405280           0.085808   \n",
       "Annual_HH_Income              0.970315          0.591222           0.430868   \n",
       "No_of_Earning_Members         0.347883          0.311915           0.597482   \n",
       "\n",
       "                       Emi_or_Rent_Amt  Annual_HH_Income  \\\n",
       "Mthly_HH_Income               0.036976          0.970315   \n",
       "Mthly_HH_Expense              0.405280          0.591222   \n",
       "No_of_Fly_Members             0.085808          0.430868   \n",
       "Emi_or_Rent_Amt               1.000000          0.002716   \n",
       "Annual_HH_Income              0.002716          1.000000   \n",
       "No_of_Earning_Members        -0.097431          0.296679   \n",
       "\n",
       "                       No_of_Earning_Members  \n",
       "Mthly_HH_Income                     0.347883  \n",
       "Mthly_HH_Expense                    0.311915  \n",
       "No_of_Fly_Members                   0.597482  \n",
       "Emi_or_Rent_Amt                    -0.097431  \n",
       "Annual_HH_Income                    0.296679  \n",
       "No_of_Earning_Members               1.000000  "
      ]
     },
     "execution_count": 142,
     "metadata": {},
     "output_type": "execute_result"
    }
   ],
   "source": [
    "df.corr()"
   ]
  },
  {
   "cell_type": "markdown",
   "metadata": {},
   "source": [
    "### Normal Distribution:"
   ]
  },
  {
   "cell_type": "markdown",
   "metadata": {},
   "source": [
    "The normal distribution is a form presenting data by arranging the probability distribution of each value in the data.Most values remain around the mean value making the arrangement symmetric.Histograms are created over which we plot the probability distribution curve."
   ]
  },
  {
   "cell_type": "markdown",
   "metadata": {},
   "source": [
    "#### properties of normal distribution:\n",
    "The mean, mode and median are all equal. The curve is symmetric at the center (i.e. around the mean, μ). Exactly half of the values are to the left of center and exactly half the values are to the right. The total area under the curve is 1."
   ]
  },
  {
   "cell_type": "markdown",
   "metadata": {},
   "source": [
    "#### Formula:"
   ]
  },
  {
   "attachments": {
    "7Screenshot%202021-02-02%20164738.png": {
     "image/png": "[encoded data removed]"
    }
   },
   "cell_type": "markdown",
   "metadata": {},
   "source": [
    "![7Screenshot%202021-02-02%20164738.png](attachment:7Screenshot%202021-02-02%20164738.png)"
   ]
  },
  {
   "cell_type": "markdown",
   "metadata": {},
   "source": [
    "  $ f(x) $\t=\t probability  density function    \n",
    " $ \\sigma $\t=\t  standard deviation          \n",
    "     $ \\mu\t$ =\t   mean      "
   ]
  },
  {
   "cell_type": "code",
   "execution_count": 111,
   "metadata": {},
   "outputs": [],
   "source": [
    "def normalization_fun(a):\n",
    "    maximum=max(a)\n",
    "    minimum=min(a)\n",
    "    norm_list=[]\n",
    "    for i in a:\n",
    "        value=(i-minimum)/(maximum-minimum)\n",
    "        norm_list.append(value)\n",
    "    return (norm_list)"
   ]
  },
  {
   "cell_type": "code",
   "execution_count": 120,
   "metadata": {},
   "outputs": [],
   "source": [
    "numeric_columns=[]\n",
    "for col in df.columns:\n",
    "    if (df[col].dtype !='O'):\n",
    "        numeric_columns.append(col)"
   ]
  },
  {
   "cell_type": "code",
   "execution_count": 126,
   "metadata": {
    "scrolled": true
   },
   "outputs": [
    {
     "name": "stderr",
     "output_type": "stream",
     "text": [
      "C:\\ProgramData\\Anaconda3\\lib\\site-packages\\seaborn\\distributions.py:2551: FutureWarning: `distplot` is a deprecated function and will be removed in a future version. Please adapt your code to use either `displot` (a figure-level function with similar flexibility) or `histplot` (an axes-level function for histograms).\n",
      "  warnings.warn(msg, FutureWarning)\n"
     ]
    },
    {
     "data": {
      "image/png": "[encoded data removed]",
      "text/plain": [
       "<Figure size 432x288 with 1 Axes>"
      ]
     },
     "metadata": {
      "needs_background": "light"
     },
     "output_type": "display_data"
    },
    {
     "name": "stderr",
     "output_type": "stream",
     "text": [
      "C:\\ProgramData\\Anaconda3\\lib\\site-packages\\seaborn\\distributions.py:2551: FutureWarning: `distplot` is a deprecated function and will be removed in a future version. Please adapt your code to use either `displot` (a figure-level function with similar flexibility) or `histplot` (an axes-level function for histograms).\n",
      "  warnings.warn(msg, FutureWarning)\n"
     ]
    },
    {
     "data": {
      "image/png": "[encoded data removed]",
      "text/plain": [
       "<Figure size 432x288 with 1 Axes>"
      ]
     },
     "metadata": {
      "needs_background": "light"
     },
     "output_type": "display_data"
    },
    {
     "name": "stderr",
     "output_type": "stream",
     "text": [
      "C:\\ProgramData\\Anaconda3\\lib\\site-packages\\seaborn\\distributions.py:2551: FutureWarning: `distplot` is a deprecated function and will be removed in a future version. Please adapt your code to use either `displot` (a figure-level function with similar flexibility) or `histplot` (an axes-level function for histograms).\n",
      "  warnings.warn(msg, FutureWarning)\n"
     ]
    },
    {
     "data": {
      "image/png": "[encoded data removed]",
      "text/plain": [
       "<Figure size 432x288 with 1 Axes>"
      ]
     },
     "metadata": {
      "needs_background": "light"
     },
     "output_type": "display_data"
    },
    {
     "name": "stderr",
     "output_type": "stream",
     "text": [
      "C:\\ProgramData\\Anaconda3\\lib\\site-packages\\seaborn\\distributions.py:2551: FutureWarning: `distplot` is a deprecated function and will be removed in a future version. Please adapt your code to use either `displot` (a figure-level function with similar flexibility) or `histplot` (an axes-level function for histograms).\n",
      "  warnings.warn(msg, FutureWarning)\n"
     ]
    },
    {
     "data": {
      "image/png": "[encoded data removed]",
      "text/plain": [
       "<Figure size 432x288 with 1 Axes>"
      ]
     },
     "metadata": {
      "needs_background": "light"
     },
     "output_type": "display_data"
    },
    {
     "name": "stderr",
     "output_type": "stream",
     "text": [
      "C:\\ProgramData\\Anaconda3\\lib\\site-packages\\seaborn\\distributions.py:2551: FutureWarning: `distplot` is a deprecated function and will be removed in a future version. Please adapt your code to use either `displot` (a figure-level function with similar flexibility) or `histplot` (an axes-level function for histograms).\n",
      "  warnings.warn(msg, FutureWarning)\n"
     ]
    },
    {
     "data": {
      "image/png": "[encoded data removed]",
      "text/plain": [
       "<Figure size 432x288 with 1 Axes>"
      ]
     },
     "metadata": {
      "needs_background": "light"
     },
     "output_type": "display_data"
    },
    {
     "name": "stderr",
     "output_type": "stream",
     "text": [
      "C:\\ProgramData\\Anaconda3\\lib\\site-packages\\seaborn\\distributions.py:2551: FutureWarning: `distplot` is a deprecated function and will be removed in a future version. Please adapt your code to use either `displot` (a figure-level function with similar flexibility) or `histplot` (an axes-level function for histograms).\n",
      "  warnings.warn(msg, FutureWarning)\n"
     ]
    },
    {
     "data": {
      "image/png": "[encoded data removed]",
      "text/plain": [
       "<Figure size 432x288 with 1 Axes>"
      ]
     },
     "metadata": {
      "needs_background": "light"
     },
     "output_type": "display_data"
    }
   ],
   "source": [
    "for i in numeric_columns :\n",
    "\n",
    "    sns.distplot(normalization_fun(df[i]))\n",
    "    plt.show()"
   ]
  },
  {
   "cell_type": "markdown",
   "metadata": {},
   "source": [
    "## Feature of Normal Distribution\n",
    "The normal distribution is the most important probability distribution in statistics because many continuous data in nature and psychology displays this bell-shaped curve when compiled and graphed.\n",
    "\n",
    "The most powerful (parametric) statistical tests used by psychologists require data to be normally distributed. If the data does not resemble a bell curve researchers may have to use a less powerful type of statistical test, called non-parametric statistics.\n",
    "\n",
    "We can standardized the values (raw scores) of a normal distribution by converting them into z-scores.\n",
    "\n",
    "This procedure allows researchers to determine the proportion of the values that fall within a specified number of standard deviations from the mean (i.e. calculate the empirical rule).\n",
    "\n",
    "The empirical rule in statistics allows researchers to determine the proportion of values that fall within certain distances from the mean. The empirical rule is often referred to as the three-sigma rule or the 68-95-99.7 rule\n",
    "\n",
    "1.The mean, mode and median are all equal.\n",
    "\n",
    "2.The curve is symmetric at the center (i.e. around the mean, μ).\n",
    "\n",
    "3.Exactly half of the values are to the left of center and exactly half the values are to the right.\n",
    "\n",
    "4.The total area under the curve is 1."
   ]
  },
  {
   "cell_type": "markdown",
   "metadata": {},
   "source": [
    "## Positively Skewed and Negatively Skewed Normal Distribution\n",
    "\n",
    "Besides positive and negative skew, distributions can also be said to have zero or undefined skew. In the curve of a distribution, the data on the right side of the curve may taper differently from the data on the left side. These taperings are known as \"tails.\" Negative skew refers to a longer or fatter tail on the left side of the distribution, while positive skew refers to a longer or fatter tail on the right.\n",
    "\n",
    "\n",
    "$$\n",
    " skewness = \\frac{3(mean-median)}{standarddeviation}\n",
    "$$"
   ]
  },
  {
   "cell_type": "code",
   "execution_count": 144,
   "metadata": {},
   "outputs": [],
   "source": [
    "def median_fun(a):\n",
    "    k = len(df)/2\n",
    "    if (len(a)%2==0):\n",
    "        s_l=sorted(list(a),reverse=True)\n",
    "        m=(s_l[int(k)-1]+s_l[int(k)])/2\n",
    "        return (m)"
   ]
  },
  {
   "cell_type": "code",
   "execution_count": 158,
   "metadata": {},
   "outputs": [],
   "source": [
    "def mean_fun(a):\n",
    "    sum = 0\n",
    "    n = 0\n",
    "    for j in a:\n",
    "        sum = sum+j\n",
    "        n =n+1\n",
    "    return (sum/n)"
   ]
  },
  {
   "cell_type": "code",
   "execution_count": 161,
   "metadata": {},
   "outputs": [],
   "source": [
    "def std_fun(a):\n",
    "    sum = 0\n",
    "    b = mean_fun(a)\n",
    "    for j in a:\n",
    "        sum = sum + ((j-b)**2)\n",
    "    return (math.sqrt(sum/len(a)))"
   ]
  },
  {
   "cell_type": "code",
   "execution_count": 159,
   "metadata": {},
   "outputs": [],
   "source": [
    "def  skewness_fun(a):\n",
    "   a=((mean_fun(a)-median_fun(a)))/std_fun(a)\n",
    "   return a"
   ]
  },
  {
   "cell_type": "code",
   "execution_count": 162,
   "metadata": {
    "scrolled": true
   },
   "outputs": [
    {
     "name": "stdout",
     "output_type": "stream",
     "text": [
      "Mthly_HH_Income  Skewness is  0.253835676742402\n",
      "Mthly_HH_Expense  Skewness is  0.2772229970354436\n",
      "No_of_Fly_Members  Skewness is  0.03994323218711281\n",
      "Emi_or_Rent_Amt  Skewness is  0.49524937972151156\n",
      "Annual_HH_Income  Skewness is  0.13441648734800632\n",
      "No_of_Earning_Members  Skewness is  0.6328145078635634\n"
     ]
    }
   ],
   "source": [
    "for i in numeric_columns:\n",
    "    print(i+\"  Skewness is \",skewness_fun(df[i]))"
   ]
  },
  {
   "cell_type": "code",
   "execution_count": 132,
   "metadata": {},
   "outputs": [
    {
     "name": "stdout",
     "output_type": "stream",
     "text": [
      "0.9246148763777229\n",
      "1.1994608030097127\n",
      "0.11367415455857431\n",
      "3.403679844103547\n",
      "1.1929490975818218\n",
      "1.5933009869600223\n"
     ]
    }
   ],
   "source": [
    "for i in numeric_columns:\n",
    "    print(df[i].skew())"
   ]
  }
 ],
 "metadata": {
  "kernelspec": {
   "display_name": "Python 3",
   "language": "python",
   "name": "python3"
  },
  "language_info": {
   "codemirror_mode": {
    "name": "ipython",
    "version": 3
   },
   "file_extension": ".py",
   "mimetype": "text/x-python",
   "name": "python",
   "nbconvert_exporter": "python",
   "pygments_lexer": "ipython3",
   "version": "3.8.5"
  }
 },
 "nbformat": 4,
 "nbformat_minor": 4
}
